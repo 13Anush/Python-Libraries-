{
 "cells": [
  {
   "cell_type": "markdown",
   "id": "1fd636645c500a19",
   "metadata": {},
   "source": [
    "#### What is NumPy?\n",
    "\n",
    "NumPy is short for Numerical Python. NumPy is one of the most important foundational packages for\n",
    "Numerical computing in Python.\n",
    "NumPy matters so much because it provides the core multidimensional array object that is necessary for\n",
    "most tasks in scientific computing.\n",
    "\n",
    "##### Uses of NumPy\n",
    "- NumPy provides various math functions for calculations like addition, algebra, and data analysis.\n",
    "- NumPy provides various objects representing arrays and multi-dimensional arrays which can be used to handle large data such as images, sounds, etc.\n",
    "- NumPy also works with other libraries like SciPy (for scientific computing), Pandas (for data analysis), and scikit-learn (for machine learning).\n",
    "- NumPy is fast and reliable, which makes it a great choice for numerical computing in Python.\n"
   ]
  },
  {
   "cell_type": "code",
   "execution_count": 8,
   "id": "initial_id",
   "metadata": {
    "ExecuteTime": {
     "end_time": "2025-04-01T07:50:23.493689Z",
     "start_time": "2025-04-01T07:50:23.322977Z"
    }
   },
   "outputs": [],
   "source": [
    "import numpy as np"
   ]
  },
  {
   "cell_type": "markdown",
   "id": "92b457d6828a5650",
   "metadata": {},
   "source": [
    "#### N-Dimensional Array\n",
    "\n",
    "- ndarray is the main object on which the NumPy library is based on.\n",
    "- ndarray stands for N-dimensional array. It is a multidimensional homogeneous array with a predetermined number of items.\n",
    "- Homogeneous because all the items in it are of the same type and the same size.\n",
    "- Each ndarray is associated with only one type of dtype"
   ]
  },
  {
   "cell_type": "code",
   "execution_count": 11,
   "id": "3058b0946f004206",
   "metadata": {
    "ExecuteTime": {
     "end_time": "2025-03-29T08:08:11.349628Z",
     "start_time": "2025-03-29T08:08:11.336032Z"
    }
   },
   "outputs": [
    {
     "data": {
      "text/plain": [
       "array([1, 2, 3, 4, 5])"
      ]
     },
     "execution_count": 11,
     "metadata": {},
     "output_type": "execute_result"
    }
   ],
   "source": [
    "a = np.array([1,2,3,4,5])\n",
    "a"
   ]
  },
  {
   "cell_type": "code",
   "execution_count": 12,
   "id": "58c14e7a820db386",
   "metadata": {
    "ExecuteTime": {
     "end_time": "2025-03-29T08:13:57.498346Z",
     "start_time": "2025-03-29T08:13:57.490115Z"
    }
   },
   "outputs": [
    {
     "data": {
      "text/plain": [
       "numpy.ndarray"
      ]
     },
     "execution_count": 12,
     "metadata": {},
     "output_type": "execute_result"
    }
   ],
   "source": [
    "type(a)"
   ]
  },
  {
   "cell_type": "code",
   "execution_count": 14,
   "id": "f3e2b37cb064daa4",
   "metadata": {
    "ExecuteTime": {
     "end_time": "2025-03-29T08:14:33.377757Z",
     "start_time": "2025-03-29T08:14:33.370718Z"
    }
   },
   "outputs": [
    {
     "data": {
      "text/plain": [
       "dtype('int32')"
      ]
     },
     "execution_count": 14,
     "metadata": {},
     "output_type": "execute_result"
    }
   ],
   "source": [
    "a.dtype"
   ]
  },
  {
   "cell_type": "code",
   "execution_count": 15,
   "id": "25f72dfaaac1d2a6",
   "metadata": {
    "ExecuteTime": {
     "end_time": "2025-03-29T08:18:54.696447Z",
     "start_time": "2025-03-29T08:18:54.690464Z"
    }
   },
   "outputs": [
    {
     "data": {
      "text/plain": [
       "1"
      ]
     },
     "execution_count": 15,
     "metadata": {},
     "output_type": "execute_result"
    }
   ],
   "source": [
    "a.ndim"
   ]
  },
  {
   "cell_type": "code",
   "execution_count": 17,
   "id": "6359ef6537a2413b",
   "metadata": {
    "ExecuteTime": {
     "end_time": "2025-03-29T08:19:04.410816Z",
     "start_time": "2025-03-29T08:19:04.405097Z"
    }
   },
   "outputs": [
    {
     "data": {
      "text/plain": [
       "5"
      ]
     },
     "execution_count": 17,
     "metadata": {},
     "output_type": "execute_result"
    }
   ],
   "source": [
    "a.size"
   ]
  },
  {
   "cell_type": "code",
   "execution_count": 18,
   "id": "cd563f1c2a8349a1",
   "metadata": {
    "ExecuteTime": {
     "end_time": "2025-03-29T08:59:29.057006Z",
     "start_time": "2025-03-29T08:59:29.051284Z"
    }
   },
   "outputs": [
    {
     "data": {
      "text/plain": [
       "4"
      ]
     },
     "execution_count": 18,
     "metadata": {},
     "output_type": "execute_result"
    }
   ],
   "source": [
    "a.itemsize"
   ]
  },
  {
   "cell_type": "markdown",
   "id": "1c3cae82b43ab209",
   "metadata": {},
   "source": [
    "- .itemsize can be used with ndarray objects to determine the size in bytes of each items in array.\n",
    "- Another attribute data is the buffer containing the actual elements of the array."
   ]
  },
  {
   "cell_type": "code",
   "execution_count": 20,
   "id": "a014dd407cd0631d",
   "metadata": {
    "ExecuteTime": {
     "end_time": "2025-03-29T09:22:58.729227Z",
     "start_time": "2025-03-29T09:22:58.722560Z"
    }
   },
   "outputs": [
    {
     "data": {
      "text/plain": [
       "<memory at 0x00000275CB9CD900>"
      ]
     },
     "execution_count": 20,
     "metadata": {},
     "output_type": "execute_result"
    }
   ],
   "source": [
    "a.data"
   ]
  },
  {
   "cell_type": "markdown",
   "id": "1785c3eaf24cce87",
   "metadata": {},
   "source": [
    "#### ndarray shape\n",
    "The Number of dimension\n",
    "The number of dimensions and items in an array is defined by its shape. The shape is a tuple of N-positive integers that specifies the size for each dimension. The dimensions are defined as axes and the number of axes as rank."
   ]
  },
  {
   "cell_type": "code",
   "execution_count": 22,
   "id": "a5334e1516a7acc5",
   "metadata": {
    "ExecuteTime": {
     "end_time": "2025-03-29T09:28:47.304256Z",
     "start_time": "2025-03-29T09:28:47.298181Z"
    }
   },
   "outputs": [
    {
     "data": {
      "text/plain": [
       "(2, 5)"
      ]
     },
     "execution_count": 22,
     "metadata": {},
     "output_type": "execute_result"
    }
   ],
   "source": [
    "b = np.array([[1,2,3,4,5],[6,7,8,9,10]])\n",
    "b.shape"
   ]
  },
  {
   "cell_type": "code",
   "execution_count": 23,
   "id": "42a7e7795b8d53a5",
   "metadata": {
    "ExecuteTime": {
     "end_time": "2025-03-29T09:33:40.275382Z",
     "start_time": "2025-03-29T09:33:40.269694Z"
    }
   },
   "outputs": [
    {
     "data": {
      "text/plain": [
       "array([[ 1,  2,  3,  4,  5],\n",
       "       [ 6,  7,  8,  9, 10]])"
      ]
     },
     "execution_count": 23,
     "metadata": {},
     "output_type": "execute_result"
    }
   ],
   "source": [
    "b"
   ]
  },
  {
   "cell_type": "markdown",
   "id": "ab7fb808dcc13ca9",
   "metadata": {},
   "source": [
    "- You can pass a list or sequence of lists and tuples or sequence of tuple as arguments to the array() function."
   ]
  },
  {
   "cell_type": "code",
   "execution_count": 26,
   "id": "b7b117f91f8fa9da",
   "metadata": {
    "ExecuteTime": {
     "end_time": "2025-03-29T09:36:26.336746Z",
     "start_time": "2025-03-29T09:36:26.331661Z"
    }
   },
   "outputs": [
    {
     "data": {
      "text/plain": [
       "array([[1, 2],\n",
       "       [3, 4]])"
      ]
     },
     "execution_count": 26,
     "metadata": {},
     "output_type": "execute_result"
    }
   ],
   "source": [
    "c = np.array(((1,2),(3,4)))\n",
    "c"
   ]
  },
  {
   "cell_type": "code",
   "execution_count": 28,
   "id": "734160b6f5367d0b",
   "metadata": {
    "ExecuteTime": {
     "end_time": "2025-03-29T09:45:26.830294Z",
     "start_time": "2025-03-29T09:45:26.824689Z"
    }
   },
   "outputs": [
    {
     "data": {
      "text/plain": [
       "(2, 3)"
      ]
     },
     "execution_count": 28,
     "metadata": {},
     "output_type": "execute_result"
    }
   ],
   "source": [
    "d = np.array([(1,2,3),(3,4,5)])\n",
    "d.shape"
   ]
  },
  {
   "cell_type": "code",
   "execution_count": 29,
   "id": "aaeffdb599ce9292",
   "metadata": {
    "ExecuteTime": {
     "end_time": "2025-03-29T09:46:09.174370Z",
     "start_time": "2025-03-29T09:46:09.168787Z"
    }
   },
   "outputs": [
    {
     "data": {
      "text/plain": [
       "dtype('float64')"
      ]
     },
     "execution_count": 29,
     "metadata": {},
     "output_type": "execute_result"
    }
   ],
   "source": [
    "e = np.array([1,2,3.3])\n",
    "e.dtype"
   ]
  },
  {
   "cell_type": "markdown",
   "id": "415142b1f9a8facb",
   "metadata": {},
   "source": [
    "#### zeros & ones functions\n",
    "- The zeros() function creates a full array of zeroes.\n",
    "- The ones() function creates a full array of ones."
   ]
  },
  {
   "cell_type": "code",
   "execution_count": 32,
   "id": "59b18c840a83804f",
   "metadata": {
    "ExecuteTime": {
     "end_time": "2025-03-29T09:58:40.713038Z",
     "start_time": "2025-03-29T09:58:40.707705Z"
    }
   },
   "outputs": [
    {
     "data": {
      "text/plain": [
       "array([[0., 0.],\n",
       "       [0., 0.],\n",
       "       [0., 0.]])"
      ]
     },
     "execution_count": 32,
     "metadata": {},
     "output_type": "execute_result"
    }
   ],
   "source": [
    "f = np.zeros((3,2))\n",
    "f"
   ]
  },
  {
   "cell_type": "code",
   "execution_count": 34,
   "id": "dd82cab6cd27508b",
   "metadata": {
    "ExecuteTime": {
     "end_time": "2025-03-29T09:58:52.630145Z",
     "start_time": "2025-03-29T09:58:52.625140Z"
    }
   },
   "outputs": [
    {
     "data": {
      "text/plain": [
       "array([[1., 1.],\n",
       "       [1., 1.],\n",
       "       [1., 1.]])"
      ]
     },
     "execution_count": 34,
     "metadata": {},
     "output_type": "execute_result"
    }
   ],
   "source": [
    "np.ones((3,2))"
   ]
  },
  {
   "cell_type": "markdown",
   "id": "1cb174ea85380713",
   "metadata": {},
   "source": [
    "#### arrange() function\n",
    "You can use arange() function to generate NumPy arrays with numerical sequences."
   ]
  },
  {
   "cell_type": "code",
   "execution_count": 38,
   "id": "2d09346009373835",
   "metadata": {
    "ExecuteTime": {
     "end_time": "2025-03-29T10:02:43.545244Z",
     "start_time": "2025-03-29T10:02:43.539902Z"
    }
   },
   "outputs": [
    {
     "data": {
      "text/plain": [
       "array([0, 1, 2, 3, 4])"
      ]
     },
     "execution_count": 38,
     "metadata": {},
     "output_type": "execute_result"
    }
   ],
   "source": [
    "np.arange(5)"
   ]
  },
  {
   "cell_type": "code",
   "execution_count": 40,
   "id": "1c2984c86ccc5ed3",
   "metadata": {
    "ExecuteTime": {
     "end_time": "2025-03-29T10:08:30.133279Z",
     "start_time": "2025-03-29T10:08:30.128612Z"
    }
   },
   "outputs": [
    {
     "data": {
      "text/plain": [
       "array([4, 5, 6, 7, 8, 9])"
      ]
     },
     "execution_count": 40,
     "metadata": {},
     "output_type": "execute_result"
    }
   ],
   "source": [
    "np.arange(4,10)"
   ]
  },
  {
   "cell_type": "code",
   "execution_count": 41,
   "id": "5dca030ecfb0dae3",
   "metadata": {
    "ExecuteTime": {
     "end_time": "2025-03-29T10:08:42.630518Z",
     "start_time": "2025-03-29T10:08:42.625718Z"
    }
   },
   "outputs": [
    {
     "data": {
      "text/plain": [
       "array([4, 6, 8])"
      ]
     },
     "execution_count": 41,
     "metadata": {},
     "output_type": "execute_result"
    }
   ],
   "source": [
    "np.arange(4,10,2)"
   ]
  },
  {
   "cell_type": "markdown",
   "id": "307715df05fb3246",
   "metadata": {},
   "source": [
    "To generate two-dimensional arrays we can still continue to use the arange() function but combined with the reshape()\n",
    " function."
   ]
  },
  {
   "cell_type": "code",
   "execution_count": 43,
   "id": "4986cdcb810640a0",
   "metadata": {
    "ExecuteTime": {
     "end_time": "2025-03-29T10:12:04.104181Z",
     "start_time": "2025-03-29T10:12:04.098190Z"
    }
   },
   "outputs": [
    {
     "data": {
      "text/plain": [
       "array([ 1,  2,  3,  4,  5,  6,  7,  8,  9, 10, 11, 12])"
      ]
     },
     "execution_count": 43,
     "metadata": {},
     "output_type": "execute_result"
    }
   ],
   "source": [
    "np.arange(1,13)"
   ]
  },
  {
   "cell_type": "code",
   "execution_count": 44,
   "id": "7256b53e0f939fc6",
   "metadata": {
    "ExecuteTime": {
     "end_time": "2025-03-29T10:12:10.525122Z",
     "start_time": "2025-03-29T10:12:10.519533Z"
    }
   },
   "outputs": [
    {
     "data": {
      "text/plain": [
       "array([[ 1,  2,  3,  4],\n",
       "       [ 5,  6,  7,  8],\n",
       "       [ 9, 10, 11, 12]])"
      ]
     },
     "execution_count": 44,
     "metadata": {},
     "output_type": "execute_result"
    }
   ],
   "source": [
    "f = np.arange(1,13).reshape((3,4))\n",
    "f"
   ]
  },
  {
   "cell_type": "code",
   "execution_count": 46,
   "id": "cde5a185b4a4c970",
   "metadata": {
    "ExecuteTime": {
     "end_time": "2025-03-29T10:12:26.753040Z",
     "start_time": "2025-03-29T10:12:26.748521Z"
    }
   },
   "outputs": [
    {
     "data": {
      "text/plain": [
       "(3, 4)"
      ]
     },
     "execution_count": 46,
     "metadata": {},
     "output_type": "execute_result"
    }
   ],
   "source": [
    "f.shape"
   ]
  },
  {
   "cell_type": "markdown",
   "id": "b64cca0fb2084962",
   "metadata": {},
   "source": [
    "#### linespace() Function\n",
    "Third argument, instead of specifying the distance between one element and the next, defines the number of elements into which we want the interval to be split."
   ]
  },
  {
   "cell_type": "code",
   "execution_count": 50,
   "id": "29910a45e396be7a",
   "metadata": {
    "ExecuteTime": {
     "end_time": "2025-03-29T10:18:34.781180Z",
     "start_time": "2025-03-29T10:18:34.775300Z"
    }
   },
   "outputs": [
    {
     "data": {
      "text/plain": [
       "array([0.  , 0.25, 0.5 , 0.75, 1.  ])"
      ]
     },
     "execution_count": 50,
     "metadata": {},
     "output_type": "execute_result"
    }
   ],
   "source": [
    "np.linspace(0,1,5)"
   ]
  },
  {
   "cell_type": "markdown",
   "id": "9aef523af3ae7534",
   "metadata": {},
   "source": [
    "#### random() Function\n",
    "You can use random() function of the numpy.random module to obtain arrays that are filled with random values between 0 and 1."
   ]
  },
  {
   "cell_type": "code",
   "execution_count": 52,
   "id": "408b508677a5634a",
   "metadata": {
    "ExecuteTime": {
     "end_time": "2025-03-29T10:20:34.979138Z",
     "start_time": "2025-03-29T10:20:34.974231Z"
    }
   },
   "outputs": [
    {
     "data": {
      "text/plain": [
       "array([[0.13763501, 0.91310111],\n",
       "       [0.44126374, 0.16809913],\n",
       "       [0.58091483, 0.20036751]])"
      ]
     },
     "execution_count": 52,
     "metadata": {},
     "output_type": "execute_result"
    }
   ],
   "source": [
    "np.random.random((3,2))"
   ]
  },
  {
   "cell_type": "markdown",
   "id": "20881d343b18e8a8",
   "metadata": {},
   "source": [
    "#### empty() Function\n",
    "Create new arrays by allocating new memory, but do not populate with any values like ones and zeros"
   ]
  },
  {
   "cell_type": "code",
   "execution_count": 54,
   "id": "b0a7225105fb1876",
   "metadata": {
    "ExecuteTime": {
     "end_time": "2025-04-01T07:50:29.128210Z",
     "start_time": "2025-04-01T07:50:29.115803Z"
    }
   },
   "outputs": [
    {
     "data": {
      "text/plain": [
       "array([[nan,  0.,  0.,  0.,  0.],\n",
       "       [ 0.,  0.,  0.,  0.,  0.]])"
      ]
     },
     "execution_count": 54,
     "metadata": {},
     "output_type": "execute_result"
    }
   ],
   "source": [
    "np.empty((2,5))"
   ]
  },
  {
   "cell_type": "markdown",
   "id": "92d43bce9b0ae8a4",
   "metadata": {},
   "source": [
    "#### eye() Function\n",
    "Create a square N x M identity matrix\n",
    "(1s on the diagonal and 0s elsewhere)"
   ]
  },
  {
   "cell_type": "code",
   "execution_count": 57,
   "id": "b671866f5f979704",
   "metadata": {
    "ExecuteTime": {
     "end_time": "2025-04-01T07:52:48.314171Z",
     "start_time": "2025-04-01T07:52:48.308784Z"
    }
   },
   "outputs": [
    {
     "data": {
      "text/plain": [
       "array([[1., 0., 0.],\n",
       "       [0., 1., 0.],\n",
       "       [0., 0., 1.]])"
      ]
     },
     "execution_count": 57,
     "metadata": {},
     "output_type": "execute_result"
    }
   ],
   "source": [
    "np.eye(3,3)"
   ]
  },
  {
   "cell_type": "markdown",
   "id": "cce9ee60a4b55ff8",
   "metadata": {},
   "source": [
    "#### Data Type of ndarray\n",
    "The Data Type or dtype is a special object containing (Metadata & Data about Data)"
   ]
  },
  {
   "cell_type": "code",
   "execution_count": 60,
   "id": "e219e58142334b0d",
   "metadata": {
    "ExecuteTime": {
     "end_time": "2025-04-01T08:29:02.863516Z",
     "start_time": "2025-04-01T08:29:02.856844Z"
    }
   },
   "outputs": [
    {
     "data": {
      "text/plain": [
       "array([1., 2., 3.])"
      ]
     },
     "execution_count": 60,
     "metadata": {},
     "output_type": "execute_result"
    }
   ],
   "source": [
    "arr1 = np.array([1,2,3], dtype=float)\n",
    "arr1"
   ]
  },
  {
   "cell_type": "code",
   "execution_count": 61,
   "id": "988baa65e24bef27",
   "metadata": {
    "ExecuteTime": {
     "end_time": "2025-04-01T08:30:17.378998Z",
     "start_time": "2025-04-01T08:30:17.372724Z"
    }
   },
   "outputs": [
    {
     "data": {
      "text/plain": [
       "array([1, 3, 4])"
      ]
     },
     "execution_count": 61,
     "metadata": {},
     "output_type": "execute_result"
    }
   ],
   "source": [
    "arr2 = np.array([1.2,3,4], dtype=int)\n",
    "arr2"
   ]
  },
  {
   "cell_type": "code",
   "execution_count": 63,
   "id": "7e912dbfa181b210",
   "metadata": {
    "ExecuteTime": {
     "end_time": "2025-04-01T08:31:32.278033Z",
     "start_time": "2025-04-01T08:31:32.272416Z"
    }
   },
   "outputs": [
    {
     "name": "stdout",
     "output_type": "stream",
     "text": [
      "float64\n",
      "int32\n"
     ]
    }
   ],
   "source": [
    "print(arr1.dtype,arr2.dtype, sep='\\n')"
   ]
  },
  {
   "cell_type": "markdown",
   "id": "e0c5abccbcbb0be2",
   "metadata": {},
   "source": [
    "NumPy arrays are designed to contain a wide range of data types"
   ]
  },
  {
   "cell_type": "code",
   "execution_count": 65,
   "id": "343ea30a3d23b9b6",
   "metadata": {
    "ExecuteTime": {
     "end_time": "2025-04-01T08:41:18.611462Z",
     "start_time": "2025-04-01T08:41:18.602599Z"
    }
   },
   "outputs": [
    {
     "data": {
      "text/plain": [
       "dtype('<U1')"
      ]
     },
     "execution_count": 65,
     "metadata": {},
     "output_type": "execute_result"
    }
   ],
   "source": [
    "g = np.array([['a','b'],['c','d']])\n",
    "g.dtype"
   ]
  },
  {
   "cell_type": "code",
   "execution_count": 66,
   "id": "4e068741e3ddfedb",
   "metadata": {
    "ExecuteTime": {
     "end_time": "2025-04-01T08:41:37.685125Z",
     "start_time": "2025-04-01T08:41:37.678775Z"
    }
   },
   "outputs": [
    {
     "data": {
      "text/plain": [
       "'str32'"
      ]
     },
     "execution_count": 66,
     "metadata": {},
     "output_type": "execute_result"
    }
   ],
   "source": [
    "g.dtype.name"
   ]
  },
  {
   "cell_type": "code",
   "execution_count": 67,
   "id": "7314e68e988f7a71",
   "metadata": {
    "ExecuteTime": {
     "end_time": "2025-04-01T08:47:24.204476Z",
     "start_time": "2025-04-01T08:47:24.197451Z"
    }
   },
   "outputs": [
    {
     "data": {
      "text/plain": [
       "array([[1.-5.j, 2.+0.j, 3.+0.j],\n",
       "       [4.+0.j, 5.+0.j, 6.+0.j]])"
      ]
     },
     "execution_count": 67,
     "metadata": {},
     "output_type": "execute_result"
    }
   ],
   "source": [
    "arr3 = np.array([[1-5j,2,3], [4,5,6]], dtype=complex)\n",
    "arr3"
   ]
  },
  {
   "cell_type": "markdown",
   "id": "a1c1165d5163b02c",
   "metadata": {},
   "source": [
    "#### astype() Function\n",
    "To explicitly convert an array from one dtype to another"
   ]
  },
  {
   "cell_type": "code",
   "execution_count": 72,
   "id": "e161d277d0d5be5a",
   "metadata": {
    "ExecuteTime": {
     "end_time": "2025-04-01T08:48:56.340873Z",
     "start_time": "2025-04-01T08:48:56.334505Z"
    }
   },
   "outputs": [
    {
     "data": {
      "text/plain": [
       "dtype('int32')"
      ]
     },
     "execution_count": 72,
     "metadata": {},
     "output_type": "execute_result"
    }
   ],
   "source": [
    "arr4 = np.array([1,2,3,4,5])\n",
    "arr4.dtype"
   ]
  },
  {
   "cell_type": "code",
   "execution_count": 74,
   "id": "eb41a2d667c2ff56",
   "metadata": {
    "ExecuteTime": {
     "end_time": "2025-04-01T08:49:55.184490Z",
     "start_time": "2025-04-01T08:49:55.178549Z"
    }
   },
   "outputs": [
    {
     "name": "stdout",
     "output_type": "stream",
     "text": [
      "float64 \n",
      " [1. 2. 3. 4. 5.]\n"
     ]
    }
   ],
   "source": [
    "float_arr = arr4.astype(float)\n",
    "print(float_arr.dtype, '\\n', float_arr)"
   ]
  },
  {
   "cell_type": "markdown",
   "id": "cf0f5c2bc11c9391",
   "metadata": {},
   "source": [
    "### Airthmetic Operations"
   ]
  },
  {
   "cell_type": "code",
   "execution_count": 77,
   "id": "c396356c6930ad83",
   "metadata": {
    "ExecuteTime": {
     "end_time": "2025-04-01T08:50:54.452840Z",
     "start_time": "2025-04-01T08:50:54.447616Z"
    }
   },
   "outputs": [
    {
     "data": {
      "text/plain": [
       "array([0, 1, 2, 3, 4, 5, 6, 7, 8, 9])"
      ]
     },
     "execution_count": 77,
     "metadata": {},
     "output_type": "execute_result"
    }
   ],
   "source": [
    "arr5 = np.arange(10)\n",
    "arr5"
   ]
  },
  {
   "cell_type": "code",
   "execution_count": 78,
   "id": "59bd642e381e289f",
   "metadata": {
    "ExecuteTime": {
     "end_time": "2025-04-01T08:51:02.543459Z",
     "start_time": "2025-04-01T08:51:02.536901Z"
    }
   },
   "outputs": [
    {
     "data": {
      "text/plain": [
       "array([ 4,  5,  6,  7,  8,  9, 10, 11, 12, 13])"
      ]
     },
     "execution_count": 78,
     "metadata": {},
     "output_type": "execute_result"
    }
   ],
   "source": [
    "arr5 + 4"
   ]
  },
  {
   "cell_type": "code",
   "execution_count": 79,
   "id": "c1af9888c1b2cd1f",
   "metadata": {
    "ExecuteTime": {
     "end_time": "2025-04-01T08:51:15.121136Z",
     "start_time": "2025-04-01T08:51:15.114601Z"
    }
   },
   "outputs": [
    {
     "data": {
      "text/plain": [
       "array([-4, -3, -2, -1,  0,  1,  2,  3,  4,  5])"
      ]
     },
     "execution_count": 79,
     "metadata": {},
     "output_type": "execute_result"
    }
   ],
   "source": [
    "arr5 - 4"
   ]
  },
  {
   "cell_type": "code",
   "execution_count": 81,
   "id": "8fcbeba79f2db4c5",
   "metadata": {
    "ExecuteTime": {
     "end_time": "2025-04-01T08:51:31.234540Z",
     "start_time": "2025-04-01T08:51:31.229055Z"
    }
   },
   "outputs": [
    {
     "data": {
      "text/plain": [
       "array([ 0,  4,  8, 12, 16, 20, 24, 28, 32, 36])"
      ]
     },
     "execution_count": 81,
     "metadata": {},
     "output_type": "execute_result"
    }
   ],
   "source": [
    "arr5 * 4"
   ]
  },
  {
   "cell_type": "code",
   "execution_count": 82,
   "id": "85669ff8be7513d7",
   "metadata": {
    "ExecuteTime": {
     "end_time": "2025-04-01T09:23:08.409364Z",
     "start_time": "2025-04-01T09:23:08.401325Z"
    }
   },
   "outputs": [
    {
     "data": {
      "text/plain": [
       "array([0.  , 0.25, 0.5 , 0.75, 1.  , 1.25, 1.5 , 1.75, 2.  , 2.25])"
      ]
     },
     "execution_count": 82,
     "metadata": {},
     "output_type": "execute_result"
    }
   ],
   "source": [
    "arr5 / 4"
   ]
  },
  {
   "cell_type": "code",
   "execution_count": 84,
   "id": "dc3ef204ade815cc",
   "metadata": {
    "ExecuteTime": {
     "end_time": "2025-04-01T09:23:43.930159Z",
     "start_time": "2025-04-01T09:23:43.924295Z"
    }
   },
   "outputs": [
    {
     "data": {
      "text/plain": [
       "array([0, 1, 0, 1, 0, 1, 0, 1, 0, 1], dtype=int32)"
      ]
     },
     "execution_count": 84,
     "metadata": {},
     "output_type": "execute_result"
    }
   ],
   "source": [
    "arr5 % 2"
   ]
  },
  {
   "cell_type": "code",
   "execution_count": 85,
   "id": "bbec83315a7b80c6",
   "metadata": {
    "ExecuteTime": {
     "end_time": "2025-04-01T09:24:56.731565Z",
     "start_time": "2025-04-01T09:24:56.725350Z"
    }
   },
   "outputs": [
    {
     "data": {
      "text/plain": [
       "array([0, 1, 2, 3, 4, 5, 6, 7, 8, 9])"
      ]
     },
     "execution_count": 85,
     "metadata": {},
     "output_type": "execute_result"
    }
   ],
   "source": [
    "arr6 = np.arange(10)\n",
    "arr6\n"
   ]
  },
  {
   "cell_type": "code",
   "execution_count": 86,
   "id": "c2c56b224be71554",
   "metadata": {
    "ExecuteTime": {
     "end_time": "2025-04-01T09:25:00.740425Z",
     "start_time": "2025-04-01T09:25:00.734035Z"
    }
   },
   "outputs": [
    {
     "data": {
      "text/plain": [
       "array([ 0,  2,  4,  6,  8, 10, 12, 14, 16, 18])"
      ]
     },
     "execution_count": 86,
     "metadata": {},
     "output_type": "execute_result"
    }
   ],
   "source": [
    "arr5 + arr6"
   ]
  },
  {
   "cell_type": "code",
   "execution_count": 88,
   "id": "ea9aa8cb00664618",
   "metadata": {
    "ExecuteTime": {
     "end_time": "2025-04-01T09:25:24.595757Z",
     "start_time": "2025-04-01T09:25:24.590513Z"
    }
   },
   "outputs": [
    {
     "data": {
      "text/plain": [
       "array([ 0,  1,  4,  9, 16, 25, 36, 49, 64, 81])"
      ]
     },
     "execution_count": 88,
     "metadata": {},
     "output_type": "execute_result"
    }
   ],
   "source": [
    "arr5 * arr6"
   ]
  },
  {
   "cell_type": "code",
   "execution_count": 89,
   "id": "9c1a50f1faafc7a6",
   "metadata": {
    "ExecuteTime": {
     "end_time": "2025-04-01T09:25:09.670131Z",
     "start_time": "2025-04-01T09:25:09.663556Z"
    }
   },
   "outputs": [
    {
     "data": {
      "text/plain": [
       "array([0, 0, 0, 0, 0, 0, 0, 0, 0, 0])"
      ]
     },
     "execution_count": 89,
     "metadata": {},
     "output_type": "execute_result"
    }
   ],
   "source": [
    "arr5 - arr6"
   ]
  },
  {
   "cell_type": "code",
   "execution_count": 90,
   "id": "847d89d4a7ab83a0",
   "metadata": {
    "ExecuteTime": {
     "end_time": "2025-04-01T09:25:30.692540Z",
     "start_time": "2025-04-01T09:25:30.684717Z"
    }
   },
   "outputs": [
    {
     "name": "stderr",
     "output_type": "stream",
     "text": [
      "C:\\Users\\hp\\AppData\\Local\\Temp\\ipykernel_11360\\3149839863.py:1: RuntimeWarning: invalid value encountered in divide\n",
      "  arr5 / arr6\n"
     ]
    },
    {
     "data": {
      "text/plain": [
       "array([nan,  1.,  1.,  1.,  1.,  1.,  1.,  1.,  1.,  1.])"
      ]
     },
     "execution_count": 90,
     "metadata": {},
     "output_type": "execute_result"
    }
   ],
   "source": [
    "arr5 / arr6"
   ]
  },
  {
   "cell_type": "markdown",
   "id": "9bb46c6c9ce6f27a",
   "metadata": {},
   "source": [
    "#### MultiDimensional"
   ]
  },
  {
   "cell_type": "code",
   "execution_count": 93,
   "id": "6895197e4a1e3b69",
   "metadata": {
    "ExecuteTime": {
     "end_time": "2025-04-01T09:27:21.848147Z",
     "start_time": "2025-04-01T09:27:21.841781Z"
    }
   },
   "outputs": [
    {
     "data": {
      "text/plain": [
       "array([0, 1, 2, 3, 4, 5, 6, 7, 8])"
      ]
     },
     "execution_count": 93,
     "metadata": {},
     "output_type": "execute_result"
    }
   ],
   "source": [
    "arr7 = np.arange(0,9)\n",
    "arr7"
   ]
  },
  {
   "cell_type": "code",
   "execution_count": 94,
   "id": "f5aaa4a58e64948a",
   "metadata": {
    "ExecuteTime": {
     "end_time": "2025-04-01T09:27:44.867054Z",
     "start_time": "2025-04-01T09:27:44.861749Z"
    }
   },
   "outputs": [
    {
     "data": {
      "text/plain": [
       "array([[0, 1, 2],\n",
       "       [3, 4, 5],\n",
       "       [6, 7, 8]])"
      ]
     },
     "execution_count": 94,
     "metadata": {},
     "output_type": "execute_result"
    }
   ],
   "source": [
    "c = arr7.reshape((3,3))\n",
    "c"
   ]
  },
  {
   "cell_type": "code",
   "execution_count": 96,
   "id": "13040bdab8db98ae",
   "metadata": {
    "ExecuteTime": {
     "end_time": "2025-04-01T09:28:07.618528Z",
     "start_time": "2025-04-01T09:28:07.612504Z"
    }
   },
   "outputs": [
    {
     "data": {
      "text/plain": [
       "array([[1., 1., 1.],\n",
       "       [1., 1., 1.],\n",
       "       [1., 1., 1.]])"
      ]
     },
     "execution_count": 96,
     "metadata": {},
     "output_type": "execute_result"
    }
   ],
   "source": [
    "d = np.ones((3,3))\n",
    "d"
   ]
  },
  {
   "cell_type": "markdown",
   "id": "1420bc8a41449e80",
   "metadata": {},
   "source": [
    "#### Matrix Product\n",
    "In NumPy the matrix product is performed using dot() function. This Operation is not element-wise."
   ]
  },
  {
   "cell_type": "code",
   "execution_count": 99,
   "id": "c4a663d920ca72fd",
   "metadata": {
    "ExecuteTime": {
     "end_time": "2025-04-01T09:38:10.524218Z",
     "start_time": "2025-04-01T09:38:10.488697Z"
    }
   },
   "outputs": [
    {
     "data": {
      "text/plain": [
       "array([[ 3.,  3.,  3.],\n",
       "       [12., 12., 12.],\n",
       "       [21., 21., 21.]])"
      ]
     },
     "execution_count": 99,
     "metadata": {},
     "output_type": "execute_result"
    }
   ],
   "source": [
    "np.dot(c,d)"
   ]
  },
  {
   "cell_type": "code",
   "execution_count": 100,
   "id": "204cc6e252692077",
   "metadata": {
    "ExecuteTime": {
     "end_time": "2025-04-01T09:38:52.513032Z",
     "start_time": "2025-04-01T09:38:52.508649Z"
    }
   },
   "outputs": [
    {
     "data": {
      "text/plain": [
       "array([[ 3.,  3.,  3.],\n",
       "       [12., 12., 12.],\n",
       "       [21., 21., 21.]])"
      ]
     },
     "execution_count": 100,
     "metadata": {},
     "output_type": "execute_result"
    }
   ],
   "source": [
    "# Alternative\n",
    "c.dot(d)"
   ]
  },
  {
   "cell_type": "code",
   "execution_count": 101,
   "id": "51cfdb2b9b225bdd",
   "metadata": {
    "ExecuteTime": {
     "end_time": "2025-04-01T09:39:26.314010Z",
     "start_time": "2025-04-01T09:39:26.308433Z"
    }
   },
   "outputs": [
    {
     "data": {
      "text/plain": [
       "array([[1., 1.],\n",
       "       [1., 1.]])"
      ]
     },
     "execution_count": 101,
     "metadata": {},
     "output_type": "execute_result"
    }
   ],
   "source": [
    "a = np.ones(4).reshape((2,2))\n",
    "a"
   ]
  },
  {
   "cell_type": "code",
   "execution_count": 102,
   "id": "bb362ab0a10c6306",
   "metadata": {
    "ExecuteTime": {
     "end_time": "2025-04-01T09:40:21.301659Z",
     "start_time": "2025-04-01T09:40:21.297096Z"
    }
   },
   "outputs": [
    {
     "data": {
      "text/plain": [
       "array([[3, 4],\n",
       "       [5, 6]])"
      ]
     },
     "execution_count": 102,
     "metadata": {},
     "output_type": "execute_result"
    }
   ],
   "source": [
    "b = np.arange(3,7).reshape(2,2)\n",
    "b"
   ]
  },
  {
   "cell_type": "code",
   "execution_count": 103,
   "id": "54c634f9bac7a440",
   "metadata": {
    "ExecuteTime": {
     "end_time": "2025-04-01T09:40:58.344309Z",
     "start_time": "2025-04-01T09:40:58.340062Z"
    }
   },
   "outputs": [
    {
     "data": {
      "text/plain": [
       "array([[ 7.,  7.],\n",
       "       [11., 11.]])"
      ]
     },
     "execution_count": 103,
     "metadata": {},
     "output_type": "execute_result"
    }
   ],
   "source": [
    "b.dot(a)"
   ]
  },
  {
   "cell_type": "markdown",
   "id": "cd3b77987660a95b",
   "metadata": {},
   "source": [
    "#### Increment & Decrement\n"
   ]
  },
  {
   "cell_type": "markdown",
   "id": "c9fef0c900127cc5",
   "metadata": {},
   "source": [
    "You can use operators such as += and -="
   ]
  },
  {
   "cell_type": "code",
   "execution_count": 110,
   "id": "6ff41072-541f-4720-a067-b029c91fa4f7",
   "metadata": {},
   "outputs": [
    {
     "data": {
      "text/plain": [
       "array([[1., 1.],\n",
       "       [1., 1.]])"
      ]
     },
     "execution_count": 110,
     "metadata": {},
     "output_type": "execute_result"
    }
   ],
   "source": [
    "a"
   ]
  },
  {
   "cell_type": "code",
   "execution_count": 111,
   "id": "6e2f1c58-8e17-4fcd-9028-f9dba22c3645",
   "metadata": {},
   "outputs": [
    {
     "data": {
      "text/plain": [
       "array([[4., 4.],\n",
       "       [4., 4.]])"
      ]
     },
     "execution_count": 111,
     "metadata": {},
     "output_type": "execute_result"
    }
   ],
   "source": [
    "a +=3\n",
    "a"
   ]
  },
  {
   "cell_type": "code",
   "execution_count": 113,
   "id": "0713ba76-90e0-48ab-9aba-6cb3344e3e3e",
   "metadata": {},
   "outputs": [
    {
     "data": {
      "text/plain": [
       "array([[0., 0., 0.],\n",
       "       [0., 0., 0.],\n",
       "       [0., 0., 0.]])"
      ]
     },
     "execution_count": 113,
     "metadata": {},
     "output_type": "execute_result"
    }
   ],
   "source": [
    "d -= 1\n",
    "d"
   ]
  },
  {
   "cell_type": "code",
   "execution_count": 114,
   "id": "bdce91b9-cf49-4d3a-8418-bec87e3ff9c7",
   "metadata": {},
   "outputs": [
    {
     "data": {
      "text/plain": [
       "array([[0., 0., 0.],\n",
       "       [0., 0., 0.],\n",
       "       [0., 0., 0.]])"
      ]
     },
     "execution_count": 114,
     "metadata": {},
     "output_type": "execute_result"
    }
   ],
   "source": [
    "d *= 3\n",
    "d"
   ]
  },
  {
   "cell_type": "code",
   "execution_count": 116,
   "id": "1c597818-70cb-4a8e-868d-05b6a5fccca4",
   "metadata": {},
   "outputs": [
    {
     "data": {
      "text/plain": [
       "array([[0., 0., 0.],\n",
       "       [0., 0., 0.],\n",
       "       [0., 0., 0.]])"
      ]
     },
     "execution_count": 116,
     "metadata": {},
     "output_type": "execute_result"
    }
   ],
   "source": [
    "d /= 2\n",
    "d"
   ]
  },
  {
   "cell_type": "markdown",
   "id": "7aec16cc-dc4b-430e-8497-0182245dd54c",
   "metadata": {},
   "source": [
    "#### Universal Function (ufunc)\n",
    "A Universal Function (ufunc), operates on an array in an element-by-element fashion. \\\n",
    "Example are sin(), log(), sqrt()"
   ]
  },
  {
   "cell_type": "code",
   "execution_count": 118,
   "id": "1aab9b6c-647e-4865-8c1f-76d5fe7d28ba",
   "metadata": {},
   "outputs": [
    {
     "data": {
      "text/plain": [
       "array([0.        , 0.52359878, 0.78539816, 1.04719755, 1.57079633])"
      ]
     },
     "execution_count": 118,
     "metadata": {},
     "output_type": "execute_result"
    }
   ],
   "source": [
    "f = np.array((0., 30., 45., 60., 90.)) * np.pi / 180\n",
    "f"
   ]
  },
  {
   "cell_type": "code",
   "execution_count": 120,
   "id": "fe0708d2-ffda-4543-b5c6-b8299e61b9f0",
   "metadata": {},
   "outputs": [
    {
     "data": {
      "text/plain": [
       "array([0.        , 0.5       , 0.70710678, 0.8660254 , 1.        ])"
      ]
     },
     "execution_count": 120,
     "metadata": {},
     "output_type": "execute_result"
    }
   ],
   "source": [
    "np.sin(f)"
   ]
  },
  {
   "cell_type": "code",
   "execution_count": 122,
   "id": "f677d1b6-a411-42be-bffe-647c027b374b",
   "metadata": {},
   "outputs": [
    {
     "data": {
      "text/plain": [
       "array([1, 2, 3, 4])"
      ]
     },
     "execution_count": 122,
     "metadata": {},
     "output_type": "execute_result"
    }
   ],
   "source": [
    "g = np.arange(1,5)\n",
    "g"
   ]
  },
  {
   "cell_type": "code",
   "execution_count": 124,
   "id": "55baf99b-0af9-4992-8107-4c9588e6a36d",
   "metadata": {},
   "outputs": [
    {
     "data": {
      "text/plain": [
       "array([1.        , 1.41421356, 1.73205081, 2.        ])"
      ]
     },
     "execution_count": 124,
     "metadata": {},
     "output_type": "execute_result"
    }
   ],
   "source": [
    "np.sqrt(g)"
   ]
  },
  {
   "cell_type": "code",
   "execution_count": 126,
   "id": "bff35100-0308-4124-ac46-7d3c1a5c4490",
   "metadata": {},
   "outputs": [
    {
     "data": {
      "text/plain": [
       "array([3., 4.])"
      ]
     },
     "execution_count": 126,
     "metadata": {},
     "output_type": "execute_result"
    }
   ],
   "source": [
    "# for any base\n",
    "array = np.array([8, 16])  # = [2^3, 2^4]\n",
    "base = 2\n",
    "exponent = np.emath.logn(base, array) \n",
    "exponent"
   ]
  },
  {
   "cell_type": "code",
   "execution_count": 127,
   "id": "d093278b-883e-4956-b1c6-a8470a33c885",
   "metadata": {},
   "outputs": [
    {
     "data": {
      "text/plain": [
       "10"
      ]
     },
     "execution_count": 127,
     "metadata": {},
     "output_type": "execute_result"
    }
   ],
   "source": [
    "g.sum()"
   ]
  },
  {
   "cell_type": "code",
   "execution_count": 130,
   "id": "5974199a-134d-4c41-9711-16af0b85a167",
   "metadata": {},
   "outputs": [
    {
     "data": {
      "text/plain": [
       "1"
      ]
     },
     "execution_count": 130,
     "metadata": {},
     "output_type": "execute_result"
    }
   ],
   "source": [
    "g.min()"
   ]
  },
  {
   "cell_type": "code",
   "execution_count": 131,
   "id": "7af2e66d-71d5-4f19-b22e-a432d7cf7894",
   "metadata": {},
   "outputs": [
    {
     "data": {
      "text/plain": [
       "4"
      ]
     },
     "execution_count": 131,
     "metadata": {},
     "output_type": "execute_result"
    }
   ],
   "source": [
    "g.max()"
   ]
  },
  {
   "cell_type": "markdown",
   "id": "8eecd992-0cf3-49cb-a82c-eb70b8ae62d1",
   "metadata": {},
   "source": [
    "#### Indexes and Slcies "
   ]
  },
  {
   "cell_type": "code",
   "execution_count": 136,
   "id": "15bcc3f0-924c-4bc2-9c05-d45bf3f58cd0",
   "metadata": {},
   "outputs": [
    {
     "data": {
      "text/plain": [
       "array([ 4,  5,  6,  7,  8,  9, 10, 11])"
      ]
     },
     "execution_count": 136,
     "metadata": {},
     "output_type": "execute_result"
    }
   ],
   "source": [
    "a = np.arange(4,12)\n",
    "a"
   ]
  },
  {
   "cell_type": "code",
   "execution_count": 137,
   "id": "0419a7f4-5177-4adb-8233-d26db6359c6e",
   "metadata": {},
   "outputs": [
    {
     "data": {
      "text/plain": [
       "8"
      ]
     },
     "execution_count": 137,
     "metadata": {},
     "output_type": "execute_result"
    }
   ],
   "source": [
    "a[4]"
   ]
  },
  {
   "cell_type": "code",
   "execution_count": 139,
   "id": "5847fed3-65b9-4009-9bb4-d42c76ad5b54",
   "metadata": {},
   "outputs": [
    {
     "data": {
      "text/plain": [
       "11"
      ]
     },
     "execution_count": 139,
     "metadata": {},
     "output_type": "execute_result"
    }
   ],
   "source": [
    "a[-1]"
   ]
  },
  {
   "cell_type": "code",
   "execution_count": 140,
   "id": "02861d0e-db3a-4637-8308-78d9df2fe29f",
   "metadata": {},
   "outputs": [
    {
     "data": {
      "text/plain": [
       "array([5, 6, 8])"
      ]
     },
     "execution_count": 140,
     "metadata": {},
     "output_type": "execute_result"
    }
   ],
   "source": [
    "a[[1,2,4]]"
   ]
  },
  {
   "cell_type": "code",
   "execution_count": 142,
   "id": "50d6cdee-a9b4-43b5-a19e-3e2b9ff43307",
   "metadata": {},
   "outputs": [
    {
     "data": {
      "text/plain": [
       "array([11,  9,  7])"
      ]
     },
     "execution_count": 142,
     "metadata": {},
     "output_type": "execute_result"
    }
   ],
   "source": [
    "a[[-1,-3,-5]]"
   ]
  },
  {
   "cell_type": "code",
   "execution_count": 143,
   "id": "892843c3-f436-4448-8f4b-f1e93d41d782",
   "metadata": {},
   "outputs": [
    {
     "data": {
      "text/plain": [
       "array([11,  8,  9])"
      ]
     },
     "execution_count": 143,
     "metadata": {},
     "output_type": "execute_result"
    }
   ],
   "source": [
    "a[[-1,4,5]]"
   ]
  },
  {
   "cell_type": "markdown",
   "id": "43a31bbe-4bdd-46f0-92d8-ee23e6fdde88",
   "metadata": {},
   "source": [
    "### Two Dimensional Array \n",
    "The two-dimensional Array, namely the matrices, are represented as rectangular arrays consists of rows and Columns. \\\n",
    "They are defined by two axes:\n",
    "- Axis 0 is represented by the rows.\n",
    "- Axis 1 is represented by the columns. \\\n",
    "##### array_object[row_index, col_index]\n"
   ]
  },
  {
   "cell_type": "code",
   "execution_count": 146,
   "id": "c4eec5ab-ab56-4ef7-83a0-17285c6ca7f2",
   "metadata": {},
   "outputs": [
    {
     "data": {
      "text/plain": [
       "array([[10, 11, 12],\n",
       "       [13, 14, 15],\n",
       "       [16, 17, 18]])"
      ]
     },
     "execution_count": 146,
     "metadata": {},
     "output_type": "execute_result"
    }
   ],
   "source": [
    "A = np.arange(10, 19).reshape((3,3))\n",
    "A"
   ]
  },
  {
   "cell_type": "code",
   "execution_count": 148,
   "id": "8585b22a-f09b-448d-8318-490e3a9caf8a",
   "metadata": {},
   "outputs": [
    {
     "data": {
      "text/plain": [
       "array([13, 14, 15])"
      ]
     },
     "execution_count": 148,
     "metadata": {},
     "output_type": "execute_result"
    }
   ],
   "source": [
    "A[1]"
   ]
  },
  {
   "cell_type": "code",
   "execution_count": 149,
   "id": "343be63d-5583-4dd1-aa47-3577a840f09c",
   "metadata": {},
   "outputs": [
    {
     "data": {
      "text/plain": [
       "15"
      ]
     },
     "execution_count": 149,
     "metadata": {},
     "output_type": "execute_result"
    }
   ],
   "source": [
    "A[1,2]"
   ]
  },
  {
   "cell_type": "markdown",
   "id": "7a346984-1365-4fa3-b305-19a3ee5e09a8",
   "metadata": {},
   "source": [
    "#### Slicing \n",
    "Using Slicing, you can extract portions of an array to generate new arrays.\\\n",
    "Python lists slices are copies whereas array slices are views on the original array."
   ]
  },
  {
   "cell_type": "code",
   "execution_count": 152,
   "id": "24546aa6-39fd-4fee-a149-d971f97283c5",
   "metadata": {},
   "outputs": [
    {
     "data": {
      "text/plain": [
       "array([0, 1, 2, 3, 4, 5, 6])"
      ]
     },
     "execution_count": 152,
     "metadata": {},
     "output_type": "execute_result"
    }
   ],
   "source": [
    "arr7 = np.arange(7)\n",
    "arr7"
   ]
  },
  {
   "cell_type": "code",
   "execution_count": 153,
   "id": "5f9dfd3d-4c9e-4e6a-b7aa-8c8ccd9a4d51",
   "metadata": {},
   "outputs": [
    {
     "data": {
      "text/plain": [
       "5"
      ]
     },
     "execution_count": 153,
     "metadata": {},
     "output_type": "execute_result"
    }
   ],
   "source": [
    "arr7[5]"
   ]
  },
  {
   "cell_type": "code",
   "execution_count": 155,
   "id": "3fa3dd52-d27a-4a0c-824c-a81128d263a0",
   "metadata": {},
   "outputs": [
    {
     "data": {
      "text/plain": [
       "array([5, 6])"
      ]
     },
     "execution_count": 155,
     "metadata": {},
     "output_type": "execute_result"
    }
   ],
   "source": [
    "arr7[5:8]"
   ]
  },
  {
   "cell_type": "markdown",
   "id": "1db4b598-8cc4-4b79-b912-2ac0964e9b52",
   "metadata": {},
   "source": [
    "#### Python Slicing VS NumPy Slicing"
   ]
  },
  {
   "cell_type": "code",
   "execution_count": 159,
   "id": "9a92977b-6483-402d-909c-6506e36c662c",
   "metadata": {},
   "outputs": [
    {
     "data": {
      "text/plain": [
       "array([0, 1, 2, 3, 4, 5, 6])"
      ]
     },
     "execution_count": 159,
     "metadata": {},
     "output_type": "execute_result"
    }
   ],
   "source": [
    "arr7"
   ]
  },
  {
   "cell_type": "code",
   "execution_count": 161,
   "id": "b53169cb-c4fe-4866-8a07-5f3349c2f0f6",
   "metadata": {},
   "outputs": [
    {
     "data": {
      "text/plain": [
       "array([5, 6])"
      ]
     },
     "execution_count": 161,
     "metadata": {},
     "output_type": "execute_result"
    }
   ],
   "source": [
    "arr_slice = arr7[5:8]\n",
    "arr_slice"
   ]
  },
  {
   "cell_type": "code",
   "execution_count": 163,
   "id": "1926f0ea-cd09-4925-96b9-06944bc98bc3",
   "metadata": {},
   "outputs": [
    {
     "data": {
      "text/plain": [
       "array([ 5, 11])"
      ]
     },
     "execution_count": 163,
     "metadata": {},
     "output_type": "execute_result"
    }
   ],
   "source": [
    "arr_slice[1] =11\n",
    "arr_slice"
   ]
  },
  {
   "cell_type": "code",
   "execution_count": 164,
   "id": "34d7aeb6-f664-477c-b538-e90a6d0c2026",
   "metadata": {},
   "outputs": [
    {
     "data": {
      "text/plain": [
       "array([ 0,  1,  2,  3,  4,  5, 11])"
      ]
     },
     "execution_count": 164,
     "metadata": {},
     "output_type": "execute_result"
    }
   ],
   "source": [
    "arr7"
   ]
  },
  {
   "cell_type": "code",
   "execution_count": 165,
   "id": "94786818-a54a-4c1b-946b-0aef1347ae45",
   "metadata": {},
   "outputs": [
    {
     "data": {
      "text/plain": [
       "array([ 5, 11])"
      ]
     },
     "execution_count": 165,
     "metadata": {},
     "output_type": "execute_result"
    }
   ],
   "source": [
    "arr7[5:8].copy()"
   ]
  },
  {
   "cell_type": "code",
   "execution_count": 166,
   "id": "148b92e0-ff2a-4e80-8313-dae8deb1a2d8",
   "metadata": {},
   "outputs": [
    {
     "data": {
      "text/plain": [
       "[0, 1, 2, 3, 4, 5, 6, 7, 8, 9]"
      ]
     },
     "execution_count": 166,
     "metadata": {},
     "output_type": "execute_result"
    }
   ],
   "source": [
    "# Now in Python\n",
    "c = list(range(10))\n",
    "c"
   ]
  },
  {
   "cell_type": "code",
   "execution_count": 167,
   "id": "27c9112a-f45e-4389-ab5d-1aad3795d260",
   "metadata": {},
   "outputs": [
    {
     "data": {
      "text/plain": [
       "[2, 3]"
      ]
     },
     "execution_count": 167,
     "metadata": {},
     "output_type": "execute_result"
    }
   ],
   "source": [
    "d = c[2:4]\n",
    "d"
   ]
  },
  {
   "cell_type": "code",
   "execution_count": 170,
   "id": "32472b17-0967-4098-9b3d-e7f6b15e545c",
   "metadata": {},
   "outputs": [
    {
     "data": {
      "text/plain": [
       "[2, 11]"
      ]
     },
     "execution_count": 170,
     "metadata": {},
     "output_type": "execute_result"
    }
   ],
   "source": [
    "d[1]= 11\n",
    "d"
   ]
  },
  {
   "cell_type": "code",
   "execution_count": 171,
   "id": "b0e7f6a3-834f-436b-8a14-5ba2ae54b3e7",
   "metadata": {},
   "outputs": [
    {
     "data": {
      "text/plain": [
       "[0, 1, 2, 3, 4, 5, 6, 7, 8, 9]"
      ]
     },
     "execution_count": 171,
     "metadata": {},
     "output_type": "execute_result"
    }
   ],
   "source": [
    "c"
   ]
  },
  {
   "cell_type": "markdown",
   "id": "6f35cd0c-e177-4c7c-a168-e756cb1964e7",
   "metadata": {},
   "source": [
    "#### Skipping Items"
   ]
  },
  {
   "cell_type": "code",
   "execution_count": 174,
   "id": "f8d74ac7-fd53-4623-9e00-436a7c9c52f4",
   "metadata": {},
   "outputs": [
    {
     "data": {
      "text/plain": [
       "array([10, 11, 12, 13, 14, 15])"
      ]
     },
     "execution_count": 174,
     "metadata": {},
     "output_type": "execute_result"
    }
   ],
   "source": [
    "a = np.arange(10,16)\n",
    "a"
   ]
  },
  {
   "cell_type": "code",
   "execution_count": 175,
   "id": "f42b9629-637d-4a92-afa1-908ef6c57b5f",
   "metadata": {},
   "outputs": [
    {
     "data": {
      "text/plain": [
       "array([12, 14])"
      ]
     },
     "execution_count": 175,
     "metadata": {},
     "output_type": "execute_result"
    }
   ],
   "source": [
    "a[2:5:2]"
   ]
  },
  {
   "cell_type": "markdown",
   "id": "e3c9e577-1021-422b-837b-a3cff7d626a5",
   "metadata": {},
   "source": [
    "This notation [ start : stop : step ] is used in NumPy for slicing arrays.\n",
    "- If the first number is missing → It starts from the beginning (index 0).\n",
    "- If the second number is missing → It goes all the way to the end.\n",
    "- If the third number is missing → It moves one step at a time (default step is 1)."
   ]
  },
  {
   "cell_type": "code",
   "execution_count": 178,
   "id": "1b7e9655-4f40-43e5-8a96-ab9c4ccbb6b2",
   "metadata": {},
   "outputs": [
    {
     "data": {
      "text/plain": [
       "array([10, 12, 14])"
      ]
     },
     "execution_count": 178,
     "metadata": {},
     "output_type": "execute_result"
    }
   ],
   "source": [
    "a[::2]"
   ]
  },
  {
   "cell_type": "code",
   "execution_count": 180,
   "id": "3bdd665f-0341-44c9-9059-4f015ea7b06b",
   "metadata": {},
   "outputs": [
    {
     "data": {
      "text/plain": [
       "array([10, 11, 12])"
      ]
     },
     "execution_count": 180,
     "metadata": {},
     "output_type": "execute_result"
    }
   ],
   "source": [
    "a[:3:]"
   ]
  },
  {
   "cell_type": "code",
   "execution_count": 181,
   "id": "41e47ace-deb9-4944-b856-8191a2dc2436",
   "metadata": {},
   "outputs": [
    {
     "data": {
      "text/plain": [
       "array([14, 15])"
      ]
     },
     "execution_count": 181,
     "metadata": {},
     "output_type": "execute_result"
    }
   ],
   "source": [
    "a[-2::]"
   ]
  },
  {
   "cell_type": "markdown",
   "id": "5a8aa0e4-7c51-42c7-a611-bb150ca58d4b",
   "metadata": {},
   "source": [
    "#### Multidimensional Array"
   ]
  },
  {
   "cell_type": "code",
   "execution_count": 184,
   "id": "28437f4e-b15d-4306-b3ab-8456af7e7ade",
   "metadata": {},
   "outputs": [
    {
     "data": {
      "text/plain": [
       "array([[[ 1,  2,  3],\n",
       "        [ 4,  5,  6]],\n",
       "\n",
       "       [[ 7,  8,  9],\n",
       "        [10, 11, 12]]])"
      ]
     },
     "execution_count": 184,
     "metadata": {},
     "output_type": "execute_result"
    }
   ],
   "source": [
    "arr3 = np.array([\n",
    "    [\n",
    "        [1,2,3],\n",
    "        [4,5,6]\n",
    "    ],\n",
    "    [\n",
    "        [7,8,9],\n",
    "        [10,11,12]\n",
    "    ]\n",
    "])\n",
    "\n",
    "arr3"
   ]
  },
  {
   "cell_type": "code",
   "execution_count": 185,
   "id": "e9205b21-181a-4419-bb4c-2e6f177dd14c",
   "metadata": {},
   "outputs": [
    {
     "data": {
      "text/plain": [
       "array([[1, 2, 3],\n",
       "       [4, 5, 6]])"
      ]
     },
     "execution_count": 185,
     "metadata": {},
     "output_type": "execute_result"
    }
   ],
   "source": [
    "# arr3 is 2X3 array.\n",
    "arr3[0]"
   ]
  },
  {
   "cell_type": "code",
   "execution_count": 186,
   "id": "e7398e38-d100-4f36-b41e-573d03e15a6a",
   "metadata": {},
   "outputs": [
    {
     "data": {
      "text/plain": [
       "array([1, 2, 3])"
      ]
     },
     "execution_count": 186,
     "metadata": {},
     "output_type": "execute_result"
    }
   ],
   "source": [
    "arr3[0,0]"
   ]
  },
  {
   "cell_type": "code",
   "execution_count": 188,
   "id": "69d1bd18-98c7-4341-a127-cc3e95df7d4c",
   "metadata": {},
   "outputs": [
    {
     "data": {
      "text/plain": [
       "1"
      ]
     },
     "execution_count": 188,
     "metadata": {},
     "output_type": "execute_result"
    }
   ],
   "source": [
    "arr3[0,0,0]"
   ]
  },
  {
   "cell_type": "markdown",
   "id": "3d41e2b0-1cfa-493e-aa39-7177a0cae6fb",
   "metadata": {},
   "source": [
    "#### Boolean Indexing"
   ]
  },
  {
   "cell_type": "code",
   "execution_count": 191,
   "id": "78ea45f0-499d-4b87-8856-e1df4f580bfb",
   "metadata": {},
   "outputs": [
    {
     "data": {
      "text/plain": [
       "array([21, 22, 23, 24, 25, 26])"
      ]
     },
     "execution_count": 191,
     "metadata": {},
     "output_type": "execute_result"
    }
   ],
   "source": [
    "Age = np.array(range(21,27))\n",
    "Age"
   ]
  },
  {
   "cell_type": "code",
   "execution_count": 192,
   "id": "bc03913d-e663-49ca-90c6-6aa3a8388f63",
   "metadata": {},
   "outputs": [],
   "source": [
    "bool_array = np.array([True, False, False, False, False, True])"
   ]
  },
  {
   "cell_type": "code",
   "execution_count": 194,
   "id": "1e7390d3-701b-48e1-83bd-8d409e2e4afc",
   "metadata": {},
   "outputs": [
    {
     "data": {
      "text/plain": [
       "array([21, 26])"
      ]
     },
     "execution_count": 194,
     "metadata": {},
     "output_type": "execute_result"
    }
   ],
   "source": [
    "Age[bool_array]"
   ]
  },
  {
   "cell_type": "markdown",
   "id": "82fd1045-a47c-4296-a736-46518cefc3a6",
   "metadata": {},
   "source": [
    "#### Reshape and Shape\n",
    "We can convert a 1D array into a matrix by using reshape() function."
   ]
  },
  {
   "cell_type": "code",
   "execution_count": 198,
   "id": "ccd2f203-64b9-4843-9a44-135f9c016894",
   "metadata": {},
   "outputs": [
    {
     "data": {
      "text/plain": [
       "array([0.35803331, 0.47290421, 0.79362396, 0.78006735, 0.64129603,\n",
       "       0.29190259, 0.38870005, 0.57309884, 0.13752094, 0.25685019,\n",
       "       0.42701176, 0.71490128])"
      ]
     },
     "execution_count": 198,
     "metadata": {},
     "output_type": "execute_result"
    }
   ],
   "source": [
    "arr10 = np.random.random(12)\n",
    "arr10"
   ]
  },
  {
   "cell_type": "code",
   "execution_count": 199,
   "id": "dcdaba4b-b96b-4c4a-a340-532402ca5a18",
   "metadata": {},
   "outputs": [
    {
     "data": {
      "text/plain": [
       "array([[0.35803331, 0.47290421, 0.79362396, 0.78006735],\n",
       "       [0.64129603, 0.29190259, 0.38870005, 0.57309884],\n",
       "       [0.13752094, 0.25685019, 0.42701176, 0.71490128]])"
      ]
     },
     "execution_count": 199,
     "metadata": {},
     "output_type": "execute_result"
    }
   ],
   "source": [
    "arr11 = arr10.reshape(3,4)\n",
    "arr11"
   ]
  },
  {
   "cell_type": "code",
   "execution_count": 200,
   "id": "c51231d6-58b2-4fdf-9dce-03e4e757b25e",
   "metadata": {},
   "outputs": [
    {
     "data": {
      "text/plain": [
       "(12,)"
      ]
     },
     "execution_count": 200,
     "metadata": {},
     "output_type": "execute_result"
    }
   ],
   "source": [
    "arr10.shape"
   ]
  },
  {
   "cell_type": "code",
   "execution_count": 201,
   "id": "73ed7434-412d-454a-adfe-f388a1bc726d",
   "metadata": {},
   "outputs": [
    {
     "data": {
      "text/plain": [
       "array([[0.35803331, 0.47290421, 0.79362396, 0.78006735],\n",
       "       [0.64129603, 0.29190259, 0.38870005, 0.57309884],\n",
       "       [0.13752094, 0.25685019, 0.42701176, 0.71490128]])"
      ]
     },
     "execution_count": 201,
     "metadata": {},
     "output_type": "execute_result"
    }
   ],
   "source": [
    "arr10.shape = (3,4)\n",
    "arr10"
   ]
  },
  {
   "cell_type": "markdown",
   "id": "60664ad3-9fb7-45ec-b56a-542b3c73ef8d",
   "metadata": {},
   "source": [
    "#### ravel()\n",
    "Convert N-D array into 1D array by using ravel() function.\n",
    "Its returns the reference of original array."
   ]
  },
  {
   "cell_type": "code",
   "execution_count": 205,
   "id": "2d9c347a-c2ea-42fa-9bf5-000b81fad969",
   "metadata": {},
   "outputs": [
    {
     "data": {
      "text/plain": [
       "array([0.35803331, 0.47290421, 0.79362396, 0.78006735, 0.64129603,\n",
       "       0.29190259, 0.38870005, 0.57309884, 0.13752094, 0.25685019,\n",
       "       0.42701176, 0.71490128])"
      ]
     },
     "execution_count": 205,
     "metadata": {},
     "output_type": "execute_result"
    }
   ],
   "source": [
    "arr2 = arr10.ravel()\n",
    "arr2"
   ]
  },
  {
   "cell_type": "code",
   "execution_count": 206,
   "id": "ba9ef406-9d16-4ae6-a9d8-d39f429f6113",
   "metadata": {},
   "outputs": [
    {
     "data": {
      "text/plain": [
       "(12,)"
      ]
     },
     "execution_count": 206,
     "metadata": {},
     "output_type": "execute_result"
    }
   ],
   "source": [
    "arr2.shape"
   ]
  },
  {
   "cell_type": "code",
   "execution_count": 207,
   "id": "19b4a254-c695-4193-a4b5-296c6cf5cf96",
   "metadata": {},
   "outputs": [
    {
     "data": {
      "text/plain": [
       "array([0.35803331, 1.        , 0.79362396, 0.78006735, 0.64129603,\n",
       "       0.29190259, 0.38870005, 0.57309884, 0.13752094, 0.25685019,\n",
       "       0.42701176, 0.71490128])"
      ]
     },
     "execution_count": 207,
     "metadata": {},
     "output_type": "execute_result"
    }
   ],
   "source": [
    "arr2[1] = 1\n",
    "arr2"
   ]
  },
  {
   "cell_type": "code",
   "execution_count": 208,
   "id": "3fbfe7d0-ae9d-49bc-8087-8f92e2fae1b2",
   "metadata": {},
   "outputs": [
    {
     "data": {
      "text/plain": [
       "array([[0.35803331, 1.        , 0.79362396, 0.78006735],\n",
       "       [0.64129603, 0.29190259, 0.38870005, 0.57309884],\n",
       "       [0.13752094, 0.25685019, 0.42701176, 0.71490128]])"
      ]
     },
     "execution_count": 208,
     "metadata": {},
     "output_type": "execute_result"
    }
   ],
   "source": [
    "arr10"
   ]
  },
  {
   "cell_type": "markdown",
   "id": "bcee91ce-7b0b-462c-ad43-714b08bebfbe",
   "metadata": {},
   "source": [
    "#### Flatten()\n",
    "Convert a nD array to 1D array.\\\n",
    "It returns the copy of the original array."
   ]
  },
  {
   "cell_type": "markdown",
   "id": "5f43885b-321f-45dd-8357-a5bca8c86f80",
   "metadata": {},
   "source": [
    "#### Combining Arrays\n",
    "##### 1. Concatenate "
   ]
  },
  {
   "cell_type": "code",
   "execution_count": 211,
   "id": "c2a5641a-a381-4390-b782-41e78734e39b",
   "metadata": {},
   "outputs": [
    {
     "name": "stdout",
     "output_type": "stream",
     "text": [
      "[[1 2]\n",
      " [5 6]]\n"
     ]
    }
   ],
   "source": [
    "arr1 = np.array([[1,2],[5,6]])\n",
    "print(arr1)"
   ]
  },
  {
   "cell_type": "code",
   "execution_count": 265,
   "id": "1ba96af9-4727-4d55-b2df-8edd200eeddf",
   "metadata": {},
   "outputs": [
    {
     "name": "stdout",
     "output_type": "stream",
     "text": [
      "[[7 8]\n",
      " [3 4]]\n"
     ]
    }
   ],
   "source": [
    "arr2 = np.array([[7, 8], [3,4]])\n",
    "print(arr2)"
   ]
  },
  {
   "cell_type": "code",
   "execution_count": 267,
   "id": "f6d558c1-b77b-4f17-a8b6-613f043ad53b",
   "metadata": {},
   "outputs": [
    {
     "name": "stdout",
     "output_type": "stream",
     "text": [
      "[[1 2 7 8]\n",
      " [5 6 3 4]]\n"
     ]
    }
   ],
   "source": [
    "a = np.concatenate((arr1, arr2), axis = 1)\n",
    "print(a)"
   ]
  },
  {
   "cell_type": "code",
   "execution_count": 269,
   "id": "5a220f4d-34fc-4be8-bbcc-3e8f9f8a614c",
   "metadata": {},
   "outputs": [
    {
     "name": "stdout",
     "output_type": "stream",
     "text": [
      "[[1 2]\n",
      " [5 6]\n",
      " [7 8]\n",
      " [3 4]]\n"
     ]
    }
   ],
   "source": [
    "a = np.concatenate((arr1, arr2), axis = 0)\n",
    "print(a)"
   ]
  },
  {
   "cell_type": "markdown",
   "id": "a5eb7bff-5ed9-4687-858a-c2c31a7b37e6",
   "metadata": {},
   "source": [
    "##### 2. hstack "
   ]
  },
  {
   "cell_type": "code",
   "execution_count": 273,
   "id": "e725807f-35de-4357-a005-e5d91b9d8232",
   "metadata": {},
   "outputs": [
    {
     "data": {
      "text/plain": [
       "array([[1, 2, 5, 6],\n",
       "       [3, 4, 7, 8]])"
      ]
     },
     "execution_count": 273,
     "metadata": {},
     "output_type": "execute_result"
    }
   ],
   "source": [
    "a = np.array([[1, 2],[3,4]])\n",
    "b = np.array([[5,6],[7,8]])\n",
    "\n",
    "np.hstack((a,b))"
   ]
  },
  {
   "cell_type": "markdown",
   "id": "d74643d2-110f-4aa8-b7c8-cd34dde83bcc",
   "metadata": {},
   "source": [
    "##### 2. vstack "
   ]
  },
  {
   "cell_type": "code",
   "execution_count": 277,
   "id": "41b48422-c226-46c3-995a-260e28adfd6c",
   "metadata": {},
   "outputs": [
    {
     "data": {
      "text/plain": [
       "array([[1, 2],\n",
       "       [3, 4],\n",
       "       [5, 6],\n",
       "       [7, 8]])"
      ]
     },
     "execution_count": 277,
     "metadata": {},
     "output_type": "execute_result"
    }
   ],
   "source": [
    "a = np.array([[1, 2],[3,4]])\n",
    "b = np.array([[5,6],[7,8]])\n",
    "\n",
    "np.vstack((a,b))"
   ]
  },
  {
   "cell_type": "markdown",
   "id": "9391ac4b-3144-4407-bbc1-60e3b72e9671",
   "metadata": {},
   "source": [
    "##### 2. dstack "
   ]
  },
  {
   "cell_type": "code",
   "execution_count": 283,
   "id": "01816319-5f66-4388-9b7c-58487a1cab41",
   "metadata": {},
   "outputs": [
    {
     "data": {
      "text/plain": [
       "array([[[1, 5],\n",
       "        [2, 6]],\n",
       "\n",
       "       [[3, 7],\n",
       "        [4, 8]]])"
      ]
     },
     "execution_count": 283,
     "metadata": {},
     "output_type": "execute_result"
    }
   ],
   "source": [
    "a = np.array([[1, 2],[3,4]])\n",
    "b = np.array([[5,6],[7,8]])\n",
    "\n",
    "np.dstack((a,b))"
   ]
  },
  {
   "cell_type": "markdown",
   "id": "c7c75170-71d9-42e7-8161-658307451d1c",
   "metadata": {},
   "source": [
    "### .newaxis \n",
    "numpy.newaxis is used to increase the dimension of an existing array by one.\\\n",
    "particularly useful for reshaping arrays and for operations like broadcasting, where arrays with different shapes need to be aligned."
   ]
  },
  {
   "cell_type": "code",
   "execution_count": 288,
   "id": "40c04b2e-7aad-4f7a-ae89-49a9e139a0d9",
   "metadata": {},
   "outputs": [
    {
     "data": {
      "text/plain": [
       "array([1, 2, 3])"
      ]
     },
     "execution_count": 288,
     "metadata": {},
     "output_type": "execute_result"
    }
   ],
   "source": [
    "arr = np.array([1, 2, 3])\n",
    "arr"
   ]
  },
  {
   "cell_type": "code",
   "execution_count": 290,
   "id": "58b8714b-5678-4d51-a6a3-a3ada165ba76",
   "metadata": {},
   "outputs": [
    {
     "data": {
      "text/plain": [
       "(3,)"
      ]
     },
     "execution_count": 290,
     "metadata": {},
     "output_type": "execute_result"
    }
   ],
   "source": [
    "arr.shape"
   ]
  },
  {
   "cell_type": "code",
   "execution_count": 294,
   "id": "6f871049-3fbb-4661-9908-34a6273a6617",
   "metadata": {},
   "outputs": [
    {
     "data": {
      "text/plain": [
       "array([[1],\n",
       "       [2],\n",
       "       [3]])"
      ]
     },
     "execution_count": 294,
     "metadata": {},
     "output_type": "execute_result"
    }
   ],
   "source": [
    "colarr = arr[:,np.newaxis]\n",
    "colarr"
   ]
  },
  {
   "cell_type": "code",
   "execution_count": 296,
   "id": "2f365006-e287-4e1e-93fd-966e21d0090c",
   "metadata": {},
   "outputs": [
    {
     "data": {
      "text/plain": [
       "(3, 1)"
      ]
     },
     "execution_count": 296,
     "metadata": {},
     "output_type": "execute_result"
    }
   ],
   "source": [
    "colarr.shape"
   ]
  },
  {
   "cell_type": "code",
   "execution_count": 298,
   "id": "6982fe9e-ad05-4a08-9ddd-cd01c97410f0",
   "metadata": {},
   "outputs": [
    {
     "data": {
      "text/plain": [
       "array([[[1],\n",
       "        [2],\n",
       "        [3]]])"
      ]
     },
     "execution_count": 298,
     "metadata": {},
     "output_type": "execute_result"
    }
   ],
   "source": [
    "rowarr = colarr[np.newaxis,:]\n",
    "rowarr"
   ]
  },
  {
   "cell_type": "code",
   "execution_count": 300,
   "id": "0c612df8-8037-406a-9ee3-e18267854991",
   "metadata": {},
   "outputs": [
    {
     "data": {
      "text/plain": [
       "(1, 3, 1)"
      ]
     },
     "execution_count": 300,
     "metadata": {},
     "output_type": "execute_result"
    }
   ],
   "source": [
    "rowarr.shape"
   ]
  },
  {
   "cell_type": "code",
   "execution_count": null,
   "id": "736ff553-1834-45bb-94ec-ffaca8192e9a",
   "metadata": {},
   "outputs": [],
   "source": []
  }
 ],
 "metadata": {
  "kernelspec": {
   "display_name": "Python 3 (ipykernel)",
   "language": "python",
   "name": "python3"
  },
  "language_info": {
   "codemirror_mode": {
    "name": "ipython",
    "version": 3
   },
   "file_extension": ".py",
   "mimetype": "text/x-python",
   "name": "python",
   "nbconvert_exporter": "python",
   "pygments_lexer": "ipython3",
   "version": "3.12.7"
  }
 },
 "nbformat": 4,
 "nbformat_minor": 5
}
